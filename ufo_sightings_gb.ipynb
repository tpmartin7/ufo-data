{
 "cells": [
  {
   "cell_type": "code",
   "execution_count": 43,
   "id": "8f973da9",
   "metadata": {},
   "outputs": [],
   "source": [
    "import pandas as pd\n",
    "df = pd.read_csv(\"ufo_clean.csv\", low_memory = False)\n",
    "df = df[df.country == 'gb'].drop(columns = ['state', 'country'])\n",
    "df.datetime = df.datetime.astype('datetime64[ns]')\n",
    "df.ufo_shape = df.ufo_shape.astype('category')\n",
    "df.date_posted = df.date_posted.astype('datetime64[ns]')\n",
    "# Only look at data from GB : state and country irrelevant.\n",
    "# Still have to tell pandas to interpret the datetime even though they are in the right format in the csv"
   ]
  },
  {
   "cell_type": "code",
   "execution_count": 17,
   "id": "68872cef",
   "metadata": {},
   "outputs": [],
   "source": [
    "df = df.rename(columns = {'Unnamed: 0': 'id'}) #not sure if this id is important. may be able to drop"
   ]
  },
  {
   "cell_type": "code",
   "execution_count": 101,
   "id": "551a25d8",
   "metadata": {},
   "outputs": [],
   "source": [
    "df['year'] = df.datetime.dt.year # add a column containing just the year of the sighting"
   ]
  },
  {
   "cell_type": "code",
   "execution_count": 117,
   "id": "e0a98a74",
   "metadata": {},
   "outputs": [
    {
     "data": {
      "text/plain": [
       "<AxesSubplot:>"
      ]
     },
     "execution_count": 117,
     "metadata": {},
     "output_type": "execute_result"
    },
    {
     "data": {
      "image/png": "[encoded data removed]",
      "text/plain": [
       "<Figure size 432x288 with 1 Axes>"
      ]
     },
     "metadata": {
      "needs_background": "light"
     },
     "output_type": "display_data"
    }
   ],
   "source": [
    "years = list(df.year.unique())\n",
    "years.sort()\n",
    "sightings = []\n",
    "for next_year in years:\n",
    "    sightings.append(df[df.year == next_year].size)\n",
    "gb_sightings_by_year = pd.Series(data = sightings, index = years)\n",
    "gb_sightings_by_year.plot()"
   ]
  }
 ],
 "metadata": {
  "kernelspec": {
   "display_name": "Python 3 (ipykernel)",
   "language": "python",
   "name": "python3"
  },
  "language_info": {
   "codemirror_mode": {
    "name": "ipython",
    "version": 3
   },
   "file_extension": ".py",
   "mimetype": "text/x-python",
   "name": "python",
   "nbconvert_exporter": "python",
   "pygments_lexer": "ipython3",
   "version": "3.9.7"
  }
 },
 "nbformat": 4,
 "nbformat_minor": 5
}
