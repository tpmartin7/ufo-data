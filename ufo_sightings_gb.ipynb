{
 "cells": [
  {
   "cell_type": "code",
   "execution_count": 2,
   "id": "22f8dc10",
   "metadata": {},
   "outputs": [],
   "source": [
    "import pandas as pd\n",
    "df = pd.read_csv(\"ufo_clean.csv\", low_memory = False)\n",
    "df = df[df.country == 'gb'].drop(columns = ['state', 'country'])\n",
    "df.datetime = df.datetime.astype('datetime64[ns]')\n",
    "df.ufo_shape = df.ufo_shape.astype('category')\n",
    "df.date_posted = df.date_posted.astype('datetime64[ns]')\n",
    "# Only look at data from GB : state and country irrelevant.\n",
    "# Still have to tell pandas to interpret the datetime even though they are in the right format in the csv"
   ]
  },
  {
   "cell_type": "code",
   "execution_count": 5,
   "id": "dad08f94",
   "metadata": {},
   "outputs": [
    {
     "data": {
      "text/plain": [
       "2        1955\n",
       "6        1965\n",
       "21       1974\n",
       "25       1976\n",
       "40       1985\n",
       "         ... \n",
       "88472    2001\n",
       "88545    2006\n",
       "88549    2007\n",
       "88570    2009\n",
       "88590    2009\n",
       "Name: datetime, Length: 2050, dtype: int64"
      ]
     },
     "execution_count": 5,
     "metadata": {},
     "output_type": "execute_result"
    }
   ],
   "source": [
    "df = df.rename(columns = {'Unnamed: 0': 'id'}) #not sure if this id is important. may be able to drop\n",
    "\n",
    "df.datetime.dt.year"
   ]
  },
  {
   "cell_type": "code",
   "execution_count": 7,
   "id": "ee52902e",
   "metadata": {},
   "outputs": [],
   "source": [
    "df['year'] = df.datetime.dt.year # add a column containing just the year of the sighting"
   ]
  },
  {
   "cell_type": "code",
   "execution_count": 28,
   "id": "cf409317",
   "metadata": {},
   "outputs": [
    {
     "data": {
      "text/plain": [
       "<AxesSubplot:>"
      ]
     },
     "execution_count": 28,
     "metadata": {},
     "output_type": "execute_result"
    },
    {
     "data": {
      "image/png": "[encoded data removed]",
      "text/plain": [
       "<Figure size 432x288 with 1 Axes>"
      ]
     },
     "metadata": {
      "needs_background": "light"
     },
     "output_type": "display_data"
    }
   ],
   "source": [
    "gb_sightings_by_year = pd.Series(data = df.year.value_counts(), index = sorted(df.year.unique()))\n",
    "gb_sightings_by_year.plot()"
   ]
  },
  {
   "cell_type": "code",
   "execution_count": null,
   "id": "aa323b57",
   "metadata": {},
   "outputs": [],
   "source": []
  }
 ],
 "metadata": {
  "kernelspec": {
   "display_name": "Python 3 (ipykernel)",
   "language": "python",
   "name": "python3"
  },
  "language_info": {
   "codemirror_mode": {
    "name": "ipython",
    "version": 3
   },
   "file_extension": ".py",
   "mimetype": "text/x-python",
   "name": "python",
   "nbconvert_exporter": "python",
   "pygments_lexer": "ipython3",
   "version": "3.9.7"
  }
 },
 "nbformat": 4,
 "nbformat_minor": 5
}
