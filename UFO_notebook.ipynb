{
 "cells": [
  {
   "cell_type": "code",
   "execution_count": 44,
   "id": "f8cc8676",
   "metadata": {},
   "outputs": [],
   "source": [
    "import pandas as pd #lets us handle data as dataframes"
   ]
  },
  {
   "cell_type": "code",
   "execution_count": 125,
   "id": "367d7f4f",
   "metadata": {},
   "outputs": [],
   "source": [
    "ufodf=pd.read_csv('ufo.csv')\n",
    "ufodf = ufodf[ufodf['extra'].isnull()]\n",
    "ufodf = ufodf.drop(columns='extra')\n",
    "ufodf = ufodf.rename(columns = {'duration (seconds)': 'duration_seconds',\n",
    "                               'duration (hours/min)': 'duration_hours_min',\n",
    "                               'date posted': 'date_posted',\n",
    "                               'shape': 'ufo_shape'})\n",
    "ufodf.duration_seconds = ufodf.duration_seconds.replace('2`',2).replace('8`',8).replace('0.5`',0.5)\n",
    "ufodf.duration_seconds = ufodf.duration_seconds.astype(float)\n",
    "ufodf.latitude = ufodf.latitude.replace('33q.200088', 33.200088)\n",
    "ufodf.latitude = ufodf.latitude.astype(float)\n",
    "ufodf.datetime = ufodf.datetime.str.replace('24:00', '23:59')\n",
    "ufodf.datetime = ufodf.datetime.astype('datetime64[ns]')\n",
    "ufodf.date_posted = ufodf.date_posted.astype('datetime64[ns]')\n",
    "ufodf.ufo_shape = ufodf.ufo_shape.astype('category')\n",
    "ufodf.country = ufodf.country.astype('category')\n",
    "ufodf.state = ufodf.state.astype('category')\n",
    "ufodf.to_csv(\"ufo_clean.csv\")"
   ]
  },
  {
   "cell_type": "code",
   "execution_count": 126,
   "id": "0b6be7a2",
   "metadata": {
    "scrolled": true
   },
   "outputs": [
    {
     "name": "stdout",
     "output_type": "stream",
     "text": [
      "<class 'pandas.core.frame.DataFrame'>\n",
      "Int64Index: 88679 entries, 0 to 88874\n",
      "Data columns (total 11 columns):\n",
      " #   Column              Non-Null Count  Dtype         \n",
      "---  ------              --------------  -----         \n",
      " 0   datetime            88679 non-null  datetime64[ns]\n",
      " 1   city                88679 non-null  object        \n",
      " 2   state               81270 non-null  category      \n",
      " 3   country             76314 non-null  category      \n",
      " 4   ufo_shape           85757 non-null  category      \n",
      " 5   duration_seconds    88677 non-null  float64       \n",
      " 6   duration_hours_min  85660 non-null  object        \n",
      " 7   comments            88644 non-null  object        \n",
      " 8   date_posted         88679 non-null  datetime64[ns]\n",
      " 9   latitude            88679 non-null  float64       \n",
      " 10  longitude           88679 non-null  float64       \n",
      "dtypes: category(3), datetime64[ns](2), float64(3), object(3)\n",
      "memory usage: 6.3+ MB\n"
     ]
    }
   ],
   "source": [
    "ufodf.info()"
   ]
  }
 ],
 "metadata": {
  "kernelspec": {
   "display_name": "Python 3 (ipykernel)",
   "language": "python",
   "name": "python3"
  },
  "language_info": {
   "codemirror_mode": {
    "name": "ipython",
    "version": 3
   },
   "file_extension": ".py",
   "mimetype": "text/x-python",
   "name": "python",
   "nbconvert_exporter": "python",
   "pygments_lexer": "ipython3",
   "version": "3.9.7"
  }
 },
 "nbformat": 4,
 "nbformat_minor": 5
}
